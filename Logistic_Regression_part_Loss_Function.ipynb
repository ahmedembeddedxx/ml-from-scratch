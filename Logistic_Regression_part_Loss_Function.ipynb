{
  "nbformat": 4,
  "nbformat_minor": 0,
  "metadata": {
    "colab": {
      "provenance": [],
      "authorship_tag": "ABX9TyO/Z1DPzNL5QL9tBxPdNFW5",
      "include_colab_link": true
    },
    "kernelspec": {
      "name": "python3",
      "display_name": "Python 3"
    },
    "language_info": {
      "name": "python"
    }
  },
  "cells": [
    {
      "cell_type": "markdown",
      "metadata": {
        "id": "view-in-github",
        "colab_type": "text"
      },
      "source": [
        "<a href=\"https://colab.research.google.com/github/ahmedembeddedx/ml-from-scratch/blob/main/Logistic_Regression_part_Loss_Function.ipynb\" target=\"_parent\"><img src=\"https://colab.research.google.com/assets/colab-badge.svg\" alt=\"Open In Colab\"/></a>"
      ]
    },
    {
      "cell_type": "code",
      "execution_count": null,
      "metadata": {
        "id": "fcJ11z1USQRc"
      },
      "outputs": [],
      "source": [
        "import numpy as np\n",
        "from sklearn.datasets import load_breast_cancer\n",
        "import random"
      ]
    },
    {
      "cell_type": "code",
      "source": [
        "data = load_breast_cancer()"
      ],
      "metadata": {
        "id": "5V3qScyQSeJc"
      },
      "execution_count": null,
      "outputs": []
    },
    {
      "cell_type": "code",
      "source": [
        "def sigmoid(x):\n",
        "  a = 1/(1+np.exp(-x))\n",
        "  return a\n",
        "\n",
        "def cost(y, y_pred):\n",
        "  return (-y * np.log(y_pred)) + ((1 - y) * np.log(1 - y_pred))\n",
        "\n",
        "def loss_function(y, y_pred):\n",
        "\n",
        "  tc = 0\n",
        "  for i in range(len(y_pred)-1):\n",
        "    tc +=  cost(y[i], y_pred[i])\n",
        "\n",
        "  return tc/len(y_pred)\n",
        "\n",
        "def predict_y(weights, bias, x_params):\n",
        "  y = bias\n",
        "  for i in range(len(weights)-1):\n",
        "    y += (weights[i] * x_params[i])\n",
        "  print(y)\n",
        "  return sigmoid(y)"
      ],
      "metadata": {
        "id": "QRTf9lk9S0re"
      },
      "execution_count": null,
      "outputs": []
    },
    {
      "cell_type": "code",
      "source": [
        "X = data['data']\n",
        "X = np.hstack((np.ones((X.shape[0], 1)), X))\n",
        "Y = data['target'].reshape(data['target'].shape[0],1)"
      ],
      "metadata": {
        "id": "V-Rfu-x8vJIf"
      },
      "execution_count": null,
      "outputs": []
    },
    {
      "cell_type": "code",
      "source": [
        "print(f\"X Shape: {X.shape}\")\n",
        "print(f\"Y Shape: {Y.shape}\")"
      ],
      "metadata": {
        "colab": {
          "base_uri": "https://localhost:8080/"
        },
        "id": "A4V6fZaxvv4k",
        "outputId": "c0270182-980e-4726-c09a-1c76d1962b44"
      },
      "execution_count": null,
      "outputs": [
        {
          "output_type": "stream",
          "name": "stdout",
          "text": [
            "X Shape: (569, 31)\n",
            "Y Shape: (569, 1)\n"
          ]
        }
      ]
    },
    {
      "cell_type": "code",
      "source": [
        "weights = np.random.rand(X.shape[1])\n",
        "bias = np.random.rand(1)\n",
        "a = 0.05"
      ],
      "metadata": {
        "id": "MV7O7P2Fv9Bz"
      },
      "execution_count": null,
      "outputs": []
    },
    {
      "cell_type": "code",
      "source": [
        "weights"
      ],
      "metadata": {
        "colab": {
          "base_uri": "https://localhost:8080/"
        },
        "id": "bynORxRM6G0P",
        "outputId": "6f31bf88-2340-4d96-8e8f-b91f75e8f6d5"
      },
      "execution_count": null,
      "outputs": [
        {
          "output_type": "execute_result",
          "data": {
            "text/plain": [
              "array([0.74219405, 0.45617868, 0.11781821, 0.49204168, 0.79678307,\n",
              "       0.79369101, 0.03785493, 0.21149237, 0.66205671, 0.94775946,\n",
              "       0.54891929, 0.86316101, 0.73346681, 0.95140528, 0.34043326,\n",
              "       0.05030052, 0.81612427, 0.88698546, 0.71972895, 0.21023553,\n",
              "       0.43077139, 0.72185187, 0.83204757, 0.12005662, 0.91609351,\n",
              "       0.64583001, 0.02477257, 0.86181263, 0.66746328, 0.35969268,\n",
              "       0.61352097])"
            ]
          },
          "metadata": {},
          "execution_count": 67
        }
      ]
    },
    {
      "cell_type": "code",
      "source": [],
      "metadata": {
        "id": "CCWFULPB2qCs"
      },
      "execution_count": null,
      "outputs": []
    },
    {
      "cell_type": "code",
      "source": [],
      "metadata": {
        "id": "jxHKMSNc5dN4"
      },
      "execution_count": null,
      "outputs": []
    }
  ]
}