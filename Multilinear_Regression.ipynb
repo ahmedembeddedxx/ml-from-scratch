{
  "nbformat": 4,
  "nbformat_minor": 0,
  "metadata": {
    "colab": {
      "provenance": []
    },
    "kernelspec": {
      "name": "python3",
      "display_name": "Python 3"
    },
    "language_info": {
      "name": "python"
    }
  },
  "cells": [
    {
      "cell_type": "code",
      "execution_count": 12,
      "metadata": {
        "id": "9UDtc0NlGwRo"
      },
      "outputs": [],
      "source": [
        "import numpy as np\n",
        "import pandas as pd\n",
        "from numpy.linalg import inv"
      ]
    },
    {
      "cell_type": "code",
      "source": [
        "path = '/content/sample_data/california_housing_train.csv'\n",
        "\n",
        "data = pd.read_csv(path)\n",
        "\n",
        "data = data.to_numpy()"
      ],
      "metadata": {
        "id": "F3H-Dqi8HHOm"
      },
      "execution_count": 2,
      "outputs": []
    },
    {
      "cell_type": "code",
      "source": [
        "data.shape"
      ],
      "metadata": {
        "colab": {
          "base_uri": "https://localhost:8080/"
        },
        "id": "cvKj6PQPH5QM",
        "outputId": "9bec4f7b-13cd-4d77-8eeb-aeebb735bf2a"
      },
      "execution_count": 3,
      "outputs": [
        {
          "output_type": "execute_result",
          "data": {
            "text/plain": [
              "(17000, 9)"
            ]
          },
          "metadata": {},
          "execution_count": 3
        }
      ]
    },
    {
      "cell_type": "code",
      "source": [
        "X = data.T[0:8].T\n",
        "Y = data.T[-1]\n",
        "X = np.hstack((np.ones((X.shape[0], 1)), X))\n",
        "\n",
        "Y = np.reshape(Y, ((17000,1)))"
      ],
      "metadata": {
        "id": "MmnepcSuIUpZ"
      },
      "execution_count": 39,
      "outputs": []
    },
    {
      "cell_type": "code",
      "source": [
        "print(f'Training Size(X): {X.shape}')\n",
        "print()\n",
        "print(f'Training Size(Y): {Y.shape}')"
      ],
      "metadata": {
        "colab": {
          "base_uri": "https://localhost:8080/"
        },
        "id": "9QroDpixJIaB",
        "outputId": "da3f7b56-e6b3-4c73-e6f1-b8cb3d19bb5e"
      },
      "execution_count": 40,
      "outputs": [
        {
          "output_type": "stream",
          "name": "stdout",
          "text": [
            "Training Size(X): (17000, 9)\n",
            "\n",
            "Training Size(Y): (17000, 1)\n"
          ]
        }
      ]
    },
    {
      "cell_type": "code",
      "source": [
        "A = inv(np.matmul(X.T, X))\n",
        "g = np.matmul(X.T, Y)\n",
        "B = np.matmul(A, g)"
      ],
      "metadata": {
        "id": "clYWHl5ZJ3-4"
      },
      "execution_count": 41,
      "outputs": []
    },
    {
      "cell_type": "code",
      "source": [
        "B"
      ],
      "metadata": {
        "colab": {
          "base_uri": "https://localhost:8080/"
        },
        "id": "YvOUDLN0i_zM",
        "outputId": "536382aa-bf36-458b-e2ea-8463511c5227"
      },
      "execution_count": 42,
      "outputs": [
        {
          "output_type": "execute_result",
          "data": {
            "text/plain": [
              "array([[-3.62060089e+06],\n",
              "       [-4.31396373e+04],\n",
              "       [-4.29256731e+04],\n",
              "       [ 1.15069493e+03],\n",
              "       [-8.37825121e+00],\n",
              "       [ 1.17648543e+02],\n",
              "       [-3.84887721e+01],\n",
              "       [ 4.54360026e+01],\n",
              "       [ 4.05070684e+04]])"
            ]
          },
          "metadata": {},
          "execution_count": 42
        }
      ]
    },
    {
      "cell_type": "code",
      "source": [
        "def predict_y(x_param, B):\n",
        "    x_param = np.array(x_param)\n",
        "\n",
        "    y_pred = np.matmul(x_param, B)\n",
        "\n",
        "    return y_pred"
      ],
      "metadata": {
        "id": "Ed6zX5VilK-o"
      },
      "execution_count": 101,
      "outputs": []
    },
    {
      "cell_type": "code",
      "source": [
        "mae = 0\n",
        "rmse = 0\n",
        "\n",
        "for i in range(len(X)-1):\n",
        "  y = predict_y(X[i], B)\n",
        "\n",
        "  rmse = ((y - Y.mean())**2)\n",
        "  mae += np.absolute(y - Y[i])\n",
        "\n",
        "mae = mae/(len(X)-1)\n",
        "rmse = (rmse/(len(X)-1))**0.5\n",
        "\n",
        "print(f'MAE = {mae}')\n",
        "print(f'RMSE = {rmse}')"
      ],
      "metadata": {
        "colab": {
          "base_uri": "https://localhost:8080/"
        },
        "id": "yE9ldEGbnN3O",
        "outputId": "6a44a38d-2102-4896-8d0f-a0c3915fa59d"
      },
      "execution_count": 110,
      "outputs": [
        {
          "output_type": "stream",
          "name": "stdout",
          "text": [
            "MAE = [50793.41972509]\n",
            "RMSE = [1101.14625105]\n"
          ]
        }
      ]
    }
  ]
}